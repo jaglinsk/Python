{
 "cells": [
  {
   "cell_type": "markdown",
   "metadata": {},
   "source": [
    "The following code imports and analyzes facebook advertising data, with the goal of developing a predictive model for ad conversions"
   ]
  },
  {
   "cell_type": "code",
   "execution_count": 1,
   "metadata": {},
   "outputs": [],
   "source": [
    "import pandas as pd\n",
    "import math\n",
    "import os\n",
    "import sys\n",
    "from pathlib import Path\n",
    "import csv\n",
    "import seaborn as sn\n",
    "import numpy as np\n",
    "\n",
    "from matplotlib import pyplot\n",
    "\n",
    "import multiprocessing as mp\n",
    "from sklearn.model_selection import train_test_split\n",
    "from sklearn.ensemble import RandomForestClassifier\n",
    "from sklearn.pipeline import Pipeline\n",
    "from sklearn.impute import SimpleImputer\n",
    "from sklearn.preprocessing import StandardScaler, OneHotEncoder\n",
    "from sklearn.compose import ColumnTransformer\n",
    "\n",
    "from sklearn.metrics import accuracy_score, log_loss\n",
    "from sklearn.neighbors import KNeighborsClassifier\n",
    "from sklearn.svm import SVC, LinearSVC, NuSVC\n",
    "from sklearn.tree import DecisionTreeClassifier\n",
    "from sklearn.ensemble import RandomForestClassifier, AdaBoostClassifier, GradientBoostingClassifier\n",
    "from sklearn.discriminant_analysis import LinearDiscriminantAnalysis\n",
    "from sklearn.discriminant_analysis import QuadraticDiscriminantAnalysis\n",
    "from sklearn.linear_model import LogisticRegression\n",
    "from sklearn.model_selection import GridSearchCV\n",
    "from sklearn.metrics import make_scorer\n",
    "from sklearn.metrics import accuracy_score\n",
    "from sklearn.metrics import precision_score\n",
    "from sklearn.metrics import recall_score"
   ]
  },
  {
   "cell_type": "code",
   "execution_count": 2,
   "metadata": {},
   "outputs": [],
   "source": [
    "os.chdir('C:/Users/Bridget Marie Yoga/Documents/GitPy/Python')"
   ]
  },
  {
   "cell_type": "markdown",
   "metadata": {},
   "source": [
    "Due to file being non-ideal (missing values, trailing commas in some rows), it is best to clean up the data before importing it into our enviornment"
   ]
  },
  {
   "cell_type": "code",
   "execution_count": 3,
   "metadata": {},
   "outputs": [
    {
     "name": "stdout",
     "output_type": "stream",
     "text": [
      "           0                1              2            3               4   \\\n",
      "0       ad_id  reporting_start  reporting_end  campaign_id  fb_campaign_id   \n",
      "1      708746       17/08/2017     17/08/2017          916          103916   \n",
      "2      708749       17/08/2017     17/08/2017          916          103917   \n",
      "3      708771       17/08/2017     17/08/2017          916          103920   \n",
      "4      708815       30/08/2017     30/08/2017          916          103928   \n",
      "...       ...              ...            ...          ...             ...   \n",
      "1139  1314410       19/08/2017     19/08/2017          NaN             NaN   \n",
      "1140  1314411       19/08/2017     19/08/2017          NaN             NaN   \n",
      "1141  1314412       19/08/2017     19/08/2017          NaN             NaN   \n",
      "1142  1314414       17/08/2017     17/08/2017          NaN             NaN   \n",
      "1143  1314415       17/08/2017     17/08/2017          NaN             NaN   \n",
      "\n",
      "         5       6          7          8          9            10      11  \\\n",
      "0       age  gender  interest1  interest2  interest3  impressions  clicks   \n",
      "1     30-34       M         15         17         17         7350       1   \n",
      "2     30-34       M         16         19         21        17861       2   \n",
      "3     30-34       M         20         25         22          693       0   \n",
      "4     30-34       M         28         32         32         4259       1   \n",
      "...     ...     ...        ...        ...        ...          ...     ...   \n",
      "1139  45-49       F        109        111        114      1129773     252   \n",
      "1140  45-49       F        110        111        116       637549     120   \n",
      "1141  45-49       F        111        113        117       151531      28   \n",
      "1142  45-49       F        113        114        117       790253     135   \n",
      "1143  45-49       F        114        116        118       513161     114   \n",
      "\n",
      "               12                13                   14  \n",
      "0           spent  total_conversion  approved_conversion  \n",
      "1     1.429999948                 2                    1  \n",
      "2     1.820000023                 2                    0  \n",
      "3               0                 1                    0  \n",
      "4            1.25                 1                    0  \n",
      "...           ...               ...                  ...  \n",
      "1139   358.189997                13                    2  \n",
      "1140  173.8800035                 3                    0  \n",
      "1141  40.28999949                 2                    0  \n",
      "1142  198.7100005                 8                    2  \n",
      "1143  165.6099987                 5                    2  \n",
      "\n",
      "[1144 rows x 15 columns]\n"
     ]
    }
   ],
   "source": [
    "filename = Path('data.csv')\n",
    "newname = filename.parent/f\"{filename.stem}-fixed{filename.suffix}\"\n",
    "\n",
    "BADCOLS = ['', '']\n",
    "\n",
    "with open(filename, newline='') as infile, open(newname, 'w', newline='') as outfile:\n",
    "    writer = csv.writer(outfile)\n",
    "    for row in csv.reader(infile):\n",
    "        if row[-2:] == BADCOLS:\n",
    "            row[3:3] = BADCOLS\n",
    "            del row[-2:]\n",
    "        writer.writerow(row)\n",
    "\n",
    "# test it\n",
    "\n",
    "ads = pd.read_csv(newname, header=None)\n",
    "print(ads)"
   ]
  },
  {
   "cell_type": "code",
   "execution_count": 4,
   "metadata": {},
   "outputs": [
    {
     "name": "stdout",
     "output_type": "stream",
     "text": [
      "0\n",
      "ad_id                  object\n",
      "reporting_start        object\n",
      "reporting_end          object\n",
      "campaign_id            object\n",
      "fb_campaign_id         object\n",
      "age                    object\n",
      "gender                 object\n",
      "interest1              object\n",
      "interest2              object\n",
      "interest3              object\n",
      "impressions            object\n",
      "clicks                 object\n",
      "spent                  object\n",
      "total_conversion       object\n",
      "approved_conversion    object\n",
      "dtype: object\n"
     ]
    }
   ],
   "source": [
    "#Rename columns\n",
    "ads.columns = ads.iloc[0]\n",
    "ads = ads.drop(0)\n",
    "\n",
    "ads.head()\n",
    "print(ads.dtypes) "
   ]
  },
  {
   "cell_type": "code",
   "execution_count": 5,
   "metadata": {},
   "outputs": [],
   "source": [
    "#Adjust type for columns via apply()\n",
    "ads[['impressions', 'clicks','spent','total_conversion', 'approved_conversion']] = ads[['impressions', 'clicks','spent','total_conversion', 'approved_conversion']].apply(pd.to_numeric) \n",
    "ads['reporting_start'] = pd.to_datetime(ads['reporting_start'])\n",
    "ads['reporting_end'] = pd.to_datetime(ads['reporting_end'])\n",
    "\n",
    "ads['day_of_week'] = ads['reporting_start'].dt.day_name()"
   ]
  },
  {
   "cell_type": "code",
   "execution_count": 6,
   "metadata": {},
   "outputs": [],
   "source": [
    "#Create custom marketing values\n",
    "ads['cost_per_click'] = ads['spent'] / ads['clicks']\n",
    "\n",
    "#df['day_of_week'] = df['my_dates'].dt.day_name()\n",
    "\n",
    "#ads['cost_per_acquisition'] =ads['spent'].astype('int32') / ads['approved_conversion'].astype('int32')\n"
   ]
  },
  {
   "cell_type": "markdown",
   "metadata": {},
   "source": [
    "Exploratory data analysis"
   ]
  },
  {
   "cell_type": "code",
   "execution_count": 7,
   "metadata": {},
   "outputs": [
    {
     "data": {
      "text/html": [
       "<div>\n",
       "<style scoped>\n",
       "    .dataframe tbody tr th:only-of-type {\n",
       "        vertical-align: middle;\n",
       "    }\n",
       "\n",
       "    .dataframe tbody tr th {\n",
       "        vertical-align: top;\n",
       "    }\n",
       "\n",
       "    .dataframe thead th {\n",
       "        text-align: right;\n",
       "    }\n",
       "</style>\n",
       "<table border=\"1\" class=\"dataframe\">\n",
       "  <thead>\n",
       "    <tr style=\"text-align: right;\">\n",
       "      <th></th>\n",
       "      <th>impressions</th>\n",
       "      <th>clicks</th>\n",
       "      <th>spent</th>\n",
       "      <th>total_conversion</th>\n",
       "      <th>approved_conversion</th>\n",
       "      <th>cost_per_click</th>\n",
       "    </tr>\n",
       "  </thead>\n",
       "  <tbody>\n",
       "    <tr>\n",
       "      <th>count</th>\n",
       "      <td>1.143000e+03</td>\n",
       "      <td>1143.000000</td>\n",
       "      <td>1143.000000</td>\n",
       "      <td>1143.000000</td>\n",
       "      <td>1143.000000</td>\n",
       "      <td>936.000000</td>\n",
       "    </tr>\n",
       "    <tr>\n",
       "      <th>mean</th>\n",
       "      <td>1.867321e+05</td>\n",
       "      <td>33.390201</td>\n",
       "      <td>51.360656</td>\n",
       "      <td>2.855643</td>\n",
       "      <td>0.944007</td>\n",
       "      <td>1.499347</td>\n",
       "    </tr>\n",
       "    <tr>\n",
       "      <th>std</th>\n",
       "      <td>3.127622e+05</td>\n",
       "      <td>56.892438</td>\n",
       "      <td>86.908418</td>\n",
       "      <td>4.483593</td>\n",
       "      <td>1.737708</td>\n",
       "      <td>0.232879</td>\n",
       "    </tr>\n",
       "    <tr>\n",
       "      <th>min</th>\n",
       "      <td>8.700000e+01</td>\n",
       "      <td>0.000000</td>\n",
       "      <td>0.000000</td>\n",
       "      <td>0.000000</td>\n",
       "      <td>0.000000</td>\n",
       "      <td>0.180000</td>\n",
       "    </tr>\n",
       "    <tr>\n",
       "      <th>25%</th>\n",
       "      <td>6.503500e+03</td>\n",
       "      <td>1.000000</td>\n",
       "      <td>1.480000</td>\n",
       "      <td>1.000000</td>\n",
       "      <td>0.000000</td>\n",
       "      <td>1.390000</td>\n",
       "    </tr>\n",
       "    <tr>\n",
       "      <th>50%</th>\n",
       "      <td>5.150900e+04</td>\n",
       "      <td>8.000000</td>\n",
       "      <td>12.370000</td>\n",
       "      <td>1.000000</td>\n",
       "      <td>1.000000</td>\n",
       "      <td>1.498273</td>\n",
       "    </tr>\n",
       "    <tr>\n",
       "      <th>75%</th>\n",
       "      <td>2.217690e+05</td>\n",
       "      <td>37.500000</td>\n",
       "      <td>60.025000</td>\n",
       "      <td>3.000000</td>\n",
       "      <td>1.000000</td>\n",
       "      <td>1.644364</td>\n",
       "    </tr>\n",
       "    <tr>\n",
       "      <th>max</th>\n",
       "      <td>3.052003e+06</td>\n",
       "      <td>421.000000</td>\n",
       "      <td>639.949998</td>\n",
       "      <td>60.000000</td>\n",
       "      <td>21.000000</td>\n",
       "      <td>2.212000</td>\n",
       "    </tr>\n",
       "  </tbody>\n",
       "</table>\n",
       "</div>"
      ],
      "text/plain": [
       "0       impressions       clicks        spent  total_conversion  \\\n",
       "count  1.143000e+03  1143.000000  1143.000000       1143.000000   \n",
       "mean   1.867321e+05    33.390201    51.360656          2.855643   \n",
       "std    3.127622e+05    56.892438    86.908418          4.483593   \n",
       "min    8.700000e+01     0.000000     0.000000          0.000000   \n",
       "25%    6.503500e+03     1.000000     1.480000          1.000000   \n",
       "50%    5.150900e+04     8.000000    12.370000          1.000000   \n",
       "75%    2.217690e+05    37.500000    60.025000          3.000000   \n",
       "max    3.052003e+06   421.000000   639.949998         60.000000   \n",
       "\n",
       "0      approved_conversion  cost_per_click  \n",
       "count          1143.000000      936.000000  \n",
       "mean              0.944007        1.499347  \n",
       "std               1.737708        0.232879  \n",
       "min               0.000000        0.180000  \n",
       "25%               0.000000        1.390000  \n",
       "50%               1.000000        1.498273  \n",
       "75%               1.000000        1.644364  \n",
       "max              21.000000        2.212000  "
      ]
     },
     "execution_count": 7,
     "metadata": {},
     "output_type": "execute_result"
    }
   ],
   "source": [
    "ads.describe()"
   ]
  },
  {
   "cell_type": "code",
   "execution_count": 8,
   "metadata": {},
   "outputs": [
    {
     "name": "stdout",
     "output_type": "stream",
     "text": [
      "age     30-34  35-39  40-44  45-49\n",
      "gender                            \n",
      "F         197    109    107    138\n",
      "M         229    139    103    121\n"
     ]
    },
    {
     "data": {
      "image/png": "[encoded data removed]",
      "text/plain": [
       "<Figure size 432x288 with 1 Axes>"
      ]
     },
     "metadata": {
      "needs_background": "light"
     },
     "output_type": "display_data"
    }
   ],
   "source": [
    "impressions_by_gender = pd.pivot_table(ads,index = 'gender', columns = 'age', values = 'impressions',aggfunc = np.count_nonzero)\n",
    "impressions_by_gender.plot.bar()\n",
    "print(impressions_by_gender)"
   ]
  },
  {
   "cell_type": "code",
   "execution_count": 9,
   "metadata": {},
   "outputs": [
    {
     "name": "stdout",
     "output_type": "stream",
     "text": [
      "0            approved_conversion\n",
      "campaign_id                     \n",
      "1178                         378\n",
      "916                           24\n",
      "936                          183\n"
     ]
    },
    {
     "data": {
      "image/png": "[encoded data removed]",
      "text/plain": [
       "<Figure size 432x288 with 1 Axes>"
      ]
     },
     "metadata": {
      "needs_background": "light"
     },
     "output_type": "display_data"
    }
   ],
   "source": [
    "conversions_by_campaign = pd.pivot_table(ads,index = 'campaign_id', values = 'approved_conversion',aggfunc = np.sum)\n",
    "conversions_by_campaign.plot.bar()\n",
    "print(conversions_by_campaign)"
   ]
  },
  {
   "cell_type": "code",
   "execution_count": 10,
   "metadata": {},
   "outputs": [
    {
     "data": {
      "text/plain": [
       "<matplotlib.axes._subplots.AxesSubplot at 0x17a0d3a0610>"
      ]
     },
     "execution_count": 10,
     "metadata": {},
     "output_type": "execute_result"
    },
    {
     "data": {
      "image/png": "[encoded data removed]",
      "text/plain": [
       "<Figure size 432x288 with 2 Axes>"
      ]
     },
     "metadata": {
      "needs_background": "light"
     },
     "output_type": "display_data"
    }
   ],
   "source": [
    "corrMatrix = ads.corr()\n",
    "sn.heatmap(corrMatrix, annot=True)\n"
   ]
  },
  {
   "cell_type": "markdown",
   "metadata": {},
   "source": [
    "Create model pipelines for: Data imputation, scaling, and best fit model identificatio "
   ]
  },
  {
   "cell_type": "code",
   "execution_count": 11,
   "metadata": {},
   "outputs": [],
   "source": [
    "def label_convert(row):\n",
    "    if row['approved_conversion'] == 0:\n",
    "        return 0\n",
    "    else:\n",
    "        return 1"
   ]
  },
  {
   "cell_type": "code",
   "execution_count": 12,
   "metadata": {},
   "outputs": [],
   "source": [
    "ads['true_convert'] = ads.apply (lambda row: label_convert(row), axis=1)"
   ]
  },
  {
   "cell_type": "code",
   "execution_count": 13,
   "metadata": {},
   "outputs": [],
   "source": [
    "#Removed certain columns based on previous iterations to hone in on characteristics we can control in our reporting strategy\n",
    "x = ads.drop(columns=['approved_conversion','total_conversion','reporting_start','reporting_end', 'ad_id','fb_campaign_id','true_convert','cost_per_click'])\n",
    "y = ads['true_convert']\n",
    "\n",
    "x_train, x_test, y_train, y_test = train_test_split(x,y,test_size=.33, random_state=85)"
   ]
  },
  {
   "cell_type": "code",
   "execution_count": 14,
   "metadata": {},
   "outputs": [
    {
     "data": {
      "text/plain": [
       "Index(['campaign_id', 'age', 'gender', 'interest1', 'interest2', 'interest3',\n",
       "       'impressions', 'clicks', 'spent', 'day_of_week'],\n",
       "      dtype='object', name=0)"
      ]
     },
     "execution_count": 14,
     "metadata": {},
     "output_type": "execute_result"
    }
   ],
   "source": [
    "x.columns"
   ]
  },
  {
   "cell_type": "code",
   "execution_count": 15,
   "metadata": {},
   "outputs": [
    {
     "data": {
      "text/plain": [
       "1    391\n",
       "0    374\n",
       "Name: true_convert, dtype: int64"
      ]
     },
     "execution_count": 15,
     "metadata": {},
     "output_type": "execute_result"
    }
   ],
   "source": [
    "y_train.value_counts()"
   ]
  },
  {
   "cell_type": "code",
   "execution_count": 16,
   "metadata": {},
   "outputs": [],
   "source": [
    "numeric_transformer = Pipeline(steps=[\n",
    "    ('imputer', SimpleImputer(strategy='median')),\n",
    "    ('scaler', StandardScaler())])\n",
    "categorical_transformer = Pipeline(steps=[\n",
    "    ('imputer', SimpleImputer(strategy='constant', fill_value='missing')),\n",
    "    ('onehot', OneHotEncoder(handle_unknown='ignore'))])"
   ]
  },
  {
   "cell_type": "code",
   "execution_count": 17,
   "metadata": {},
   "outputs": [],
   "source": [
    "numeric_features = ads.select_dtypes(include=['int64', 'float64']).drop(['approved_conversion','total_conversion', 'true_convert','cost_per_click'], axis=1).columns\n",
    "categorical_features = ads.select_dtypes(include=['object']).drop([ 'ad_id','fb_campaign_id'],axis=1).columns\n",
    "\n",
    "preprocessor = ColumnTransformer(\n",
    "    transformers=[\n",
    "        ('num', numeric_transformer, numeric_features),\n",
    "        ('cat', categorical_transformer, categorical_features)])"
   ]
  },
  {
   "cell_type": "code",
   "execution_count": 18,
   "metadata": {},
   "outputs": [
    {
     "data": {
      "text/plain": [
       "Index(['impressions', 'clicks', 'spent'], dtype='object', name=0)"
      ]
     },
     "execution_count": 18,
     "metadata": {},
     "output_type": "execute_result"
    }
   ],
   "source": [
    "numeric_features"
   ]
  },
  {
   "cell_type": "code",
   "execution_count": 19,
   "metadata": {},
   "outputs": [
    {
     "name": "stdout",
     "output_type": "stream",
     "text": [
      "KNeighborsClassifier(algorithm='auto', leaf_size=30, metric='minkowski',\n",
      "                     metric_params=None, n_jobs=None, n_neighbors=3, p=2,\n",
      "                     weights='uniform')\n",
      "model score: 0.532\n",
      "SVC(C=0.025, break_ties=False, cache_size=200, class_weight=None, coef0=0.0,\n",
      "    decision_function_shape='ovr', degree=3, gamma='scale', kernel='rbf',\n",
      "    max_iter=-1, probability=True, random_state=None, shrinking=True, tol=0.001,\n",
      "    verbose=False)\n",
      "model score: 0.526\n",
      "NuSVC(break_ties=False, cache_size=200, class_weight=None, coef0=0.0,\n",
      "      decision_function_shape='ovr', degree=3, gamma='scale', kernel='rbf',\n",
      "      max_iter=-1, nu=0.5, probability=True, random_state=None, shrinking=True,\n",
      "      tol=0.001, verbose=False)\n",
      "model score: 0.611\n",
      "DecisionTreeClassifier(ccp_alpha=0.0, class_weight=None, criterion='gini',\n",
      "                       max_depth=None, max_features=None, max_leaf_nodes=None,\n",
      "                       min_impurity_decrease=0.0, min_impurity_split=None,\n",
      "                       min_samples_leaf=1, min_samples_split=2,\n",
      "                       min_weight_fraction_leaf=0.0, presort='deprecated',\n",
      "                       random_state=None, splitter='best')\n",
      "model score: 0.537\n",
      "RandomForestClassifier(bootstrap=True, ccp_alpha=0.0, class_weight=None,\n",
      "                       criterion='gini', max_depth=None, max_features='auto',\n",
      "                       max_leaf_nodes=None, max_samples=None,\n",
      "                       min_impurity_decrease=0.0, min_impurity_split=None,\n",
      "                       min_samples_leaf=1, min_samples_split=2,\n",
      "                       min_weight_fraction_leaf=0.0, n_estimators=100,\n",
      "                       n_jobs=None, oob_score=False, random_state=None,\n",
      "                       verbose=0, warm_start=False)\n",
      "model score: 0.598\n",
      "AdaBoostClassifier(algorithm='SAMME.R', base_estimator=None, learning_rate=1.0,\n",
      "                   n_estimators=50, random_state=None)\n",
      "model score: 0.630\n",
      "GradientBoostingClassifier(ccp_alpha=0.0, criterion='friedman_mse', init=None,\n",
      "                           learning_rate=0.1, loss='deviance', max_depth=3,\n",
      "                           max_features=None, max_leaf_nodes=None,\n",
      "                           min_impurity_decrease=0.0, min_impurity_split=None,\n",
      "                           min_samples_leaf=1, min_samples_split=2,\n",
      "                           min_weight_fraction_leaf=0.0, n_estimators=100,\n",
      "                           n_iter_no_change=None, presort='deprecated',\n",
      "                           random_state=None, subsample=1.0, tol=0.0001,\n",
      "                           validation_fraction=0.1, verbose=0,\n",
      "                           warm_start=False)\n",
      "model score: 0.622\n",
      "LogisticRegression(C=1.0, class_weight=None, dual=False, fit_intercept=True,\n",
      "                   intercept_scaling=1, l1_ratio=None, max_iter=100,\n",
      "                   multi_class='auto', n_jobs=None, penalty='l2',\n",
      "                   random_state=42, solver='lbfgs', tol=0.0001, verbose=0,\n",
      "                   warm_start=False)\n",
      "model score: 0.601\n"
     ]
    }
   ],
   "source": [
    "classifiers = [\n",
    "    KNeighborsClassifier(3),\n",
    "    SVC(kernel=\"rbf\", C=0.025, probability=True),\n",
    "    NuSVC(probability=True),\n",
    "    DecisionTreeClassifier(),\n",
    "    RandomForestClassifier(),\n",
    "    AdaBoostClassifier(),\n",
    "    GradientBoostingClassifier(),\n",
    "    LogisticRegression(random_state=42)]\n",
    "for classifier in classifiers:\n",
    "    pipe = Pipeline(steps=[('preprocessor', preprocessor),\n",
    "                      ('classifier', classifier)])\n",
    "    pipe.fit(x_train, y_train)   \n",
    "    print(classifier)\n",
    "    print(\"model score: %.3f\" % pipe.score(x_test, y_test))"
   ]
  },
  {
   "cell_type": "markdown",
   "metadata": {},
   "source": [
    "With the best model identified, leverage GridSearchCV() to optimize hyperparameters"
   ]
  },
  {
   "cell_type": "code",
   "execution_count": 20,
   "metadata": {},
   "outputs": [],
   "source": [
    "scoring = {'accuracy': make_scorer(accuracy_score),\n",
    "           'precision': make_scorer(precision_score),'recall':make_scorer(recall_score)}\n",
    "\n",
    "param_grid = [{\n",
    "    \"loss\":[\"deviance\"],\n",
    "    \"learning_rate\": [0.01, 0.025, 0.05, 0.075, 0.1, 0.15, 0.2],\n",
    "    \"min_samples_split\": np.linspace(0.1, 0.5, 12),\n",
    "    \"min_samples_leaf\": np.linspace(0.1, 0.5, 12),\n",
    "    \"max_depth\":[3,5,8],\n",
    "    \"max_features\":[\"log2\",\"sqrt\"],\n",
    "    \"criterion\": [\"friedman_mse\",  \"mae\"],\n",
    "    \"subsample\":[0.5, 0.618, 0.8, 0.85, 0.9, 0.95, 1.0],\n",
    "    \"n_estimators\":[10]\n",
    "    }]\n",
    "\n",
    "n_cpus = mp.cpu_count()\n",
    "#Does this make sense with scoring and refit different scores?\n",
    "gridsearch = GridSearchCV(GradientBoostingClassifier(), param_grid, n_jobs= n_cpus,verbose=0.5, scoring='f1',refit='accuracy_score',cv=2)"
   ]
  },
  {
   "cell_type": "code",
   "execution_count": 21,
   "metadata": {},
   "outputs": [
    {
     "name": "stdout",
     "output_type": "stream",
     "text": [
      "Fitting 2 folds for each of 84672 candidates, totalling 169344 fits\n"
     ]
    },
    {
     "name": "stderr",
     "output_type": "stream",
     "text": [
      "[Parallel(n_jobs=8)]: Using backend LokyBackend with 8 concurrent workers.\n",
      "[Parallel(n_jobs=8)]: Done  40 tasks      | elapsed:    4.0s\n",
      "[Parallel(n_jobs=8)]: Done 1088 tasks      | elapsed:    8.8s\n",
      "[Parallel(n_jobs=8)]: Done 3296 tasks      | elapsed:   18.7s\n",
      "[Parallel(n_jobs=8)]: Done 6376 tasks      | elapsed:   33.3s\n",
      "[Parallel(n_jobs=8)]: Done 10352 tasks      | elapsed:   51.4s\n",
      "[Parallel(n_jobs=8)]: Done 15200 tasks      | elapsed:  1.2min\n",
      "[Parallel(n_jobs=8)]: Done 20936 tasks      | elapsed:  1.6min\n",
      "[Parallel(n_jobs=8)]: Done 27544 tasks      | elapsed:  2.1min\n",
      "[Parallel(n_jobs=8)]: Done 35048 tasks      | elapsed:  2.7min\n",
      "[Parallel(n_jobs=8)]: Done 43424 tasks      | elapsed:  3.3min\n",
      "[Parallel(n_jobs=8)]: Done 52688 tasks      | elapsed:  4.0min\n",
      "[Parallel(n_jobs=8)]: Done 62824 tasks      | elapsed:  4.7min\n",
      "[Parallel(n_jobs=8)]: Done 73856 tasks      | elapsed:  5.6min\n",
      "[Parallel(n_jobs=8)]: Done 85760 tasks      | elapsed:  6.6min\n",
      "[Parallel(n_jobs=8)]: Done 98552 tasks      | elapsed:  7.7min\n",
      "[Parallel(n_jobs=8)]: Done 112216 tasks      | elapsed:  8.9min\n",
      "[Parallel(n_jobs=8)]: Done 126776 tasks      | elapsed: 10.2min\n",
      "[Parallel(n_jobs=8)]: Done 142208 tasks      | elapsed: 11.5min\n",
      "[Parallel(n_jobs=8)]: Done 158528 tasks      | elapsed: 13.0min\n",
      "[Parallel(n_jobs=8)]: Done 169344 out of 169344 | elapsed: 14.3min finished\n"
     ]
    },
    {
     "data": {
      "text/plain": [
       "Pipeline(memory=None,\n",
       "         steps=[('preprocessor',\n",
       "                 ColumnTransformer(n_jobs=None, remainder='drop',\n",
       "                                   sparse_threshold=0.3,\n",
       "                                   transformer_weights=None,\n",
       "                                   transformers=[('num',\n",
       "                                                  Pipeline(memory=None,\n",
       "                                                           steps=[('imputer',\n",
       "                                                                   SimpleImputer(add_indicator=False,\n",
       "                                                                                 copy=True,\n",
       "                                                                                 fill_value=None,\n",
       "                                                                                 missing_values=nan,\n",
       "                                                                                 strategy='median',\n",
       "                                                                                 verbose=0)),\n",
       "                                                                  ('scaler',\n",
       "                                                                   StandardScaler(copy=True,\n",
       "                                                                                  with_mean...\n",
       "       0.28181818, 0.31818182, 0.35454545, 0.39090909, 0.42727273,\n",
       "       0.46363636, 0.5       ]),\n",
       "                                           'min_samples_split': array([0.1       , 0.13636364, 0.17272727, 0.20909091, 0.24545455,\n",
       "       0.28181818, 0.31818182, 0.35454545, 0.39090909, 0.42727273,\n",
       "       0.46363636, 0.5       ]),\n",
       "                                           'n_estimators': [10],\n",
       "                                           'subsample': [0.5, 0.618, 0.8, 0.85,\n",
       "                                                         0.9, 0.95, 1.0]}],\n",
       "                              pre_dispatch='2*n_jobs', refit='accuracy_score',\n",
       "                              return_train_score=False, scoring='f1',\n",
       "                              verbose=0.5))],\n",
       "         verbose=False)"
      ]
     },
     "execution_count": 21,
     "metadata": {},
     "output_type": "execute_result"
    }
   ],
   "source": [
    "pipe = Pipeline(steps=[('preprocessor', preprocessor),\n",
    "                      ('gridsearch', gridsearch)])\n",
    "pipe.fit(x_train, y_train)\n",
    "#print(pipe.best_params_)    \n",
    "#print(pipe.best_score_)"
   ]
  },
  {
   "cell_type": "code",
   "execution_count": 22,
   "metadata": {},
   "outputs": [
    {
     "data": {
      "text/plain": [
       "GridSearchCV(cv=2, error_score=nan,\n",
       "             estimator=GradientBoostingClassifier(ccp_alpha=0.0,\n",
       "                                                  criterion='friedman_mse',\n",
       "                                                  init=None, learning_rate=0.1,\n",
       "                                                  loss='deviance', max_depth=3,\n",
       "                                                  max_features=None,\n",
       "                                                  max_leaf_nodes=None,\n",
       "                                                  min_impurity_decrease=0.0,\n",
       "                                                  min_impurity_split=None,\n",
       "                                                  min_samples_leaf=1,\n",
       "                                                  min_samples_split=2,\n",
       "                                                  min_weight_fraction_leaf=0.0,\n",
       "                                                  n_estimators=100,\n",
       "                                                  n_iter_no_c...\n",
       "       0.28181818, 0.31818182, 0.35454545, 0.39090909, 0.42727273,\n",
       "       0.46363636, 0.5       ]),\n",
       "                          'min_samples_split': array([0.1       , 0.13636364, 0.17272727, 0.20909091, 0.24545455,\n",
       "       0.28181818, 0.31818182, 0.35454545, 0.39090909, 0.42727273,\n",
       "       0.46363636, 0.5       ]),\n",
       "                          'n_estimators': [10],\n",
       "                          'subsample': [0.5, 0.618, 0.8, 0.85, 0.9, 0.95,\n",
       "                                        1.0]}],\n",
       "             pre_dispatch='2*n_jobs', refit='accuracy_score',\n",
       "             return_train_score=False, scoring='f1', verbose=0.5)"
      ]
     },
     "execution_count": 22,
     "metadata": {},
     "output_type": "execute_result"
    }
   ],
   "source": [
    "pipe[1]"
   ]
  },
  {
   "cell_type": "markdown",
   "metadata": {},
   "source": [
    "Identify key feature importances of facebook ad campaigns"
   ]
  },
  {
   "cell_type": "code",
   "execution_count": 24,
   "metadata": {},
   "outputs": [
    {
     "data": {
      "text/plain": [
       "<matplotlib.axes._subplots.AxesSubplot at 0x17a0cffda90>"
      ]
     },
     "execution_count": 24,
     "metadata": {},
     "output_type": "execute_result"
    },
    {
     "data": {
      "image/png": "[encoded data removed]",
      "text/plain": [
       "<Figure size 432x288 with 1 Axes>"
      ]
     },
     "metadata": {
      "needs_background": "light"
     },
     "output_type": "display_data"
    }
   ],
   "source": [
    "%matplotlib inline\n",
    "#do code to support model\n",
    "#\"data\" is the X dataframe and model is the SKlearn object\n",
    "\n",
    "importance = gridsearch.best_estimator_.feature_importances_\n",
    "\n",
    "feats = {} # a dict to hold feature_name: feature_importance\n",
    "for feature, importance in zip(x_train.columns, importance):\n",
    "    feats[feature] = importance #add the name/value pair \n",
    "\n",
    "importances = pd.DataFrame.from_dict(feats, orient='index').rename(columns={0: 'Gini-importance'})\n",
    "importances.sort_values(by='Gini-importance').plot(kind='bar', rot=45)"
   ]
  },
  {
   "cell_type": "code",
   "execution_count": null,
   "metadata": {},
   "outputs": [],
   "source": [
    "print(importances)"
   ]
  },
  {
   "cell_type": "code",
   "execution_count": null,
   "metadata": {},
   "outputs": [],
   "source": []
  }
 ],
 "metadata": {
  "kernelspec": {
   "display_name": "Python 3",
   "language": "python",
   "name": "python3"
  },
  "language_info": {
   "codemirror_mode": {
    "name": "ipython",
    "version": 3
   },
   "file_extension": ".py",
   "mimetype": "text/x-python",
   "name": "python",
   "nbconvert_exporter": "python",
   "pygments_lexer": "ipython3",
   "version": "3.8.3"
  }
 },
 "nbformat": 4,
 "nbformat_minor": 4
}
